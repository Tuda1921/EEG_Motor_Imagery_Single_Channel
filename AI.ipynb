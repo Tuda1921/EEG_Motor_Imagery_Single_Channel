{
 "cells": [
  {
   "cell_type": "code",
   "execution_count": 11,
   "id": "initial_id",
   "metadata": {
    "collapsed": true,
    "ExecuteTime": {
     "end_time": "2024-05-02T08:45:35.098842Z",
     "start_time": "2024-05-02T08:45:35.087326Z"
    }
   },
   "outputs": [],
   "source": [
    "import numpy as np\n",
    "import matplotlib.pyplot as plt\n",
    "import pandas as pd\n",
    "from sklearn.model_selection import train_test_split\n",
    "from sklearn import svm\n",
    "from sklearn.metrics import classification_report"
   ]
  },
  {
   "cell_type": "code",
   "outputs": [
    {
     "data": {
      "text/plain": "     0    1    2    3    4    5    6    7    8    9    ...  504  505  506  \\\n0      0   74   74   44 -337 -614 -582 -298   -8   44  ...   69   19   24   \n1      1  103  103    4 -597 -839 -401 -137 -598 -696  ...   38   40   -4   \n2      2   23   34  -37 -483 -645 -285   18   -6 -380  ...   48   27   48   \n3      3   64   45   36   35   54   71  -92 -612 -661  ...  118  113  106   \n4      4   16   19   25   38   37 -244 -601 -409  -40  ...  113  100   81   \n..   ...  ...  ...  ...  ...  ...  ...  ...  ...  ...  ...  ...  ...  ...   \n235  235   74  128  151  151  131   99   89   99   86  ...  120  137  134   \n236  236  108   97   86   85   81   65   57   58   82  ...  161  108  118   \n237  237  114  100   60   88  133  132  112  107   96  ...  163  166  138   \n238  238   77   68   80   69   87  128  145  139  116  ...  133  133  152   \n239  239  166  134  104   84   90   98   85  114  135  ...   84   89  117   \n\n     507  508  509  510  511  512         513  \n0     50   40   22   33   67   97  right move  \n1     -3   39   58   51   32   19  right move  \n2     80   68   34   42   72   81  right move  \n3     82   33   20   26   27   22  right move  \n4     68   51   32   24   10   33  right move  \n..   ...  ...  ...  ...  ...  ...         ...  \n235  109   98  106  118  115  114        left  \n236  210  260  240  192  146  118        left  \n237  134  203  253  231  168  116        left  \n238  177  163  167  214  229  203        left  \n239  122  106   86   68   55   54        left  \n\n[240 rows x 514 columns]",
      "text/html": "<div>\n<style scoped>\n    .dataframe tbody tr th:only-of-type {\n        vertical-align: middle;\n    }\n\n    .dataframe tbody tr th {\n        vertical-align: top;\n    }\n\n    .dataframe thead th {\n        text-align: right;\n    }\n</style>\n<table border=\"1\" class=\"dataframe\">\n  <thead>\n    <tr style=\"text-align: right;\">\n      <th></th>\n      <th>0</th>\n      <th>1</th>\n      <th>2</th>\n      <th>3</th>\n      <th>4</th>\n      <th>5</th>\n      <th>6</th>\n      <th>7</th>\n      <th>8</th>\n      <th>9</th>\n      <th>...</th>\n      <th>504</th>\n      <th>505</th>\n      <th>506</th>\n      <th>507</th>\n      <th>508</th>\n      <th>509</th>\n      <th>510</th>\n      <th>511</th>\n      <th>512</th>\n      <th>513</th>\n    </tr>\n  </thead>\n  <tbody>\n    <tr>\n      <th>0</th>\n      <td>0</td>\n      <td>74</td>\n      <td>74</td>\n      <td>44</td>\n      <td>-337</td>\n      <td>-614</td>\n      <td>-582</td>\n      <td>-298</td>\n      <td>-8</td>\n      <td>44</td>\n      <td>...</td>\n      <td>69</td>\n      <td>19</td>\n      <td>24</td>\n      <td>50</td>\n      <td>40</td>\n      <td>22</td>\n      <td>33</td>\n      <td>67</td>\n      <td>97</td>\n      <td>right move</td>\n    </tr>\n    <tr>\n      <th>1</th>\n      <td>1</td>\n      <td>103</td>\n      <td>103</td>\n      <td>4</td>\n      <td>-597</td>\n      <td>-839</td>\n      <td>-401</td>\n      <td>-137</td>\n      <td>-598</td>\n      <td>-696</td>\n      <td>...</td>\n      <td>38</td>\n      <td>40</td>\n      <td>-4</td>\n      <td>-3</td>\n      <td>39</td>\n      <td>58</td>\n      <td>51</td>\n      <td>32</td>\n      <td>19</td>\n      <td>right move</td>\n    </tr>\n    <tr>\n      <th>2</th>\n      <td>2</td>\n      <td>23</td>\n      <td>34</td>\n      <td>-37</td>\n      <td>-483</td>\n      <td>-645</td>\n      <td>-285</td>\n      <td>18</td>\n      <td>-6</td>\n      <td>-380</td>\n      <td>...</td>\n      <td>48</td>\n      <td>27</td>\n      <td>48</td>\n      <td>80</td>\n      <td>68</td>\n      <td>34</td>\n      <td>42</td>\n      <td>72</td>\n      <td>81</td>\n      <td>right move</td>\n    </tr>\n    <tr>\n      <th>3</th>\n      <td>3</td>\n      <td>64</td>\n      <td>45</td>\n      <td>36</td>\n      <td>35</td>\n      <td>54</td>\n      <td>71</td>\n      <td>-92</td>\n      <td>-612</td>\n      <td>-661</td>\n      <td>...</td>\n      <td>118</td>\n      <td>113</td>\n      <td>106</td>\n      <td>82</td>\n      <td>33</td>\n      <td>20</td>\n      <td>26</td>\n      <td>27</td>\n      <td>22</td>\n      <td>right move</td>\n    </tr>\n    <tr>\n      <th>4</th>\n      <td>4</td>\n      <td>16</td>\n      <td>19</td>\n      <td>25</td>\n      <td>38</td>\n      <td>37</td>\n      <td>-244</td>\n      <td>-601</td>\n      <td>-409</td>\n      <td>-40</td>\n      <td>...</td>\n      <td>113</td>\n      <td>100</td>\n      <td>81</td>\n      <td>68</td>\n      <td>51</td>\n      <td>32</td>\n      <td>24</td>\n      <td>10</td>\n      <td>33</td>\n      <td>right move</td>\n    </tr>\n    <tr>\n      <th>...</th>\n      <td>...</td>\n      <td>...</td>\n      <td>...</td>\n      <td>...</td>\n      <td>...</td>\n      <td>...</td>\n      <td>...</td>\n      <td>...</td>\n      <td>...</td>\n      <td>...</td>\n      <td>...</td>\n      <td>...</td>\n      <td>...</td>\n      <td>...</td>\n      <td>...</td>\n      <td>...</td>\n      <td>...</td>\n      <td>...</td>\n      <td>...</td>\n      <td>...</td>\n      <td>...</td>\n    </tr>\n    <tr>\n      <th>235</th>\n      <td>235</td>\n      <td>74</td>\n      <td>128</td>\n      <td>151</td>\n      <td>151</td>\n      <td>131</td>\n      <td>99</td>\n      <td>89</td>\n      <td>99</td>\n      <td>86</td>\n      <td>...</td>\n      <td>120</td>\n      <td>137</td>\n      <td>134</td>\n      <td>109</td>\n      <td>98</td>\n      <td>106</td>\n      <td>118</td>\n      <td>115</td>\n      <td>114</td>\n      <td>left</td>\n    </tr>\n    <tr>\n      <th>236</th>\n      <td>236</td>\n      <td>108</td>\n      <td>97</td>\n      <td>86</td>\n      <td>85</td>\n      <td>81</td>\n      <td>65</td>\n      <td>57</td>\n      <td>58</td>\n      <td>82</td>\n      <td>...</td>\n      <td>161</td>\n      <td>108</td>\n      <td>118</td>\n      <td>210</td>\n      <td>260</td>\n      <td>240</td>\n      <td>192</td>\n      <td>146</td>\n      <td>118</td>\n      <td>left</td>\n    </tr>\n    <tr>\n      <th>237</th>\n      <td>237</td>\n      <td>114</td>\n      <td>100</td>\n      <td>60</td>\n      <td>88</td>\n      <td>133</td>\n      <td>132</td>\n      <td>112</td>\n      <td>107</td>\n      <td>96</td>\n      <td>...</td>\n      <td>163</td>\n      <td>166</td>\n      <td>138</td>\n      <td>134</td>\n      <td>203</td>\n      <td>253</td>\n      <td>231</td>\n      <td>168</td>\n      <td>116</td>\n      <td>left</td>\n    </tr>\n    <tr>\n      <th>238</th>\n      <td>238</td>\n      <td>77</td>\n      <td>68</td>\n      <td>80</td>\n      <td>69</td>\n      <td>87</td>\n      <td>128</td>\n      <td>145</td>\n      <td>139</td>\n      <td>116</td>\n      <td>...</td>\n      <td>133</td>\n      <td>133</td>\n      <td>152</td>\n      <td>177</td>\n      <td>163</td>\n      <td>167</td>\n      <td>214</td>\n      <td>229</td>\n      <td>203</td>\n      <td>left</td>\n    </tr>\n    <tr>\n      <th>239</th>\n      <td>239</td>\n      <td>166</td>\n      <td>134</td>\n      <td>104</td>\n      <td>84</td>\n      <td>90</td>\n      <td>98</td>\n      <td>85</td>\n      <td>114</td>\n      <td>135</td>\n      <td>...</td>\n      <td>84</td>\n      <td>89</td>\n      <td>117</td>\n      <td>122</td>\n      <td>106</td>\n      <td>86</td>\n      <td>68</td>\n      <td>55</td>\n      <td>54</td>\n      <td>left</td>\n    </tr>\n  </tbody>\n</table>\n<p>240 rows × 514 columns</p>\n</div>"
     },
     "execution_count": 12,
     "metadata": {},
     "output_type": "execute_result"
    }
   ],
   "source": [
    "dataset = \"Data for AI Training/Dataset_2subject.csv\"\n",
    "dataset = pd.read_csv(dataset, header=None)\n",
    "dataset"
   ],
   "metadata": {
    "collapsed": false,
    "ExecuteTime": {
     "end_time": "2024-05-02T08:45:36.444276Z",
     "start_time": "2024-05-02T08:45:36.344739Z"
    }
   },
   "id": "2beb7866a1f063a8",
   "execution_count": 12
  },
  {
   "cell_type": "code",
   "outputs": [
    {
     "name": "stdout",
     "output_type": "stream",
     "text": [
      "     0    1    2    3    4    5    6    7    8    9    ...  503  504  505  \\\n",
      "0      0   74   74   44 -337 -614 -582 -298   -8   44  ...   75   69   19   \n",
      "1      1  103  103    4 -597 -839 -401 -137 -598 -696  ...   17   38   40   \n",
      "2      2   23   34  -37 -483 -645 -285   18   -6 -380  ...   76   48   27   \n",
      "3      3   64   45   36   35   54   71  -92 -612 -661  ...  125  118  113   \n",
      "4      4   16   19   25   38   37 -244 -601 -409  -40  ...  101  113  100   \n",
      "..   ...  ...  ...  ...  ...  ...  ...  ...  ...  ...  ...  ...  ...  ...   \n",
      "235  235   74  128  151  151  131   99   89   99   86  ...  135  120  137   \n",
      "236  236  108   97   86   85   81   65   57   58   82  ...  150  161  108   \n",
      "237  237  114  100   60   88  133  132  112  107   96  ...  151  163  166   \n",
      "238  238   77   68   80   69   87  128  145  139  116  ...  214  133  133   \n",
      "239  239  166  134  104   84   90   98   85  114  135  ...   77   84   89   \n",
      "\n",
      "     506  507  508  509  510  511  512  \n",
      "0     24   50   40   22   33   67   97  \n",
      "1     -4   -3   39   58   51   32   19  \n",
      "2     48   80   68   34   42   72   81  \n",
      "3    106   82   33   20   26   27   22  \n",
      "4     81   68   51   32   24   10   33  \n",
      "..   ...  ...  ...  ...  ...  ...  ...  \n",
      "235  134  109   98  106  118  115  114  \n",
      "236  118  210  260  240  192  146  118  \n",
      "237  138  134  203  253  231  168  116  \n",
      "238  152  177  163  167  214  229  203  \n",
      "239  117  122  106   86   68   55   54  \n",
      "\n",
      "[240 rows x 513 columns]\n",
      "['left move' 'right move' 'left move' 'left move' 'left move' 'left move'\n",
      " 'left move' 'left move' 'left move' 'left move' 'left move' 'left move'\n",
      " 'left move' 'left move' 'left move' 'right move' 'right' 'left move'\n",
      " 'left move' 'left move' 'left move' 'left move' 'right' 'left move'\n",
      " 'left move' 'left move' 'left move' 'left' 'right' 'left move'\n",
      " 'right move' 'right move' 'left move' 'left' 'left move' 'left move'\n",
      " 'left move' 'left move' 'left move' 'left move' 'right move' 'left move'\n",
      " 'left' 'left move' 'left move' 'left move' 'right move' 'left move']\n",
      "0.6666666666666666 0.3125\n",
      "              precision    recall  f1-score   support\n",
      "\n",
      "  right move       0.65      1.00      0.78        31\n",
      "   left move       1.00      0.42      0.59       109\n",
      "       right       0.58      1.00      0.74        28\n",
      "        left       0.46      0.96      0.62        24\n",
      "\n",
      "    accuracy                           0.67       192\n",
      "   macro avg       0.67      0.85      0.68       192\n",
      "weighted avg       0.81      0.67      0.65       192\n"
     ]
    }
   ],
   "source": [
    "# Chuyển đổi dữ liệu chuỗi thành dữ liệu số học\n",
    "X = dataset[dataset.columns[:-1]]\n",
    "print(X)\n",
    "y = dataset[dataset.columns[-1]]  # Cột nhãn\n",
    "# Phân chia dữ liệu thành tập huấn luyện và tập kiểm tra\n",
    "X_train, X_test, y_train, y_test = train_test_split(X, y, test_size=0.2, random_state=42)\n",
    "# Tạo mô hình SVM với kernel tuyến tính\n",
    "model = svm.SVC(kernel='poly')\n",
    "# Huấn luyện mô hình trên tập huấn luyện\n",
    "model.fit(X_train, y_train)\n",
    "# Dự đoán nhãn cho tập kiểm tra\n",
    "y_pred = model.predict(X_test)\n",
    "print(y_pred)\n",
    "train_score = model.score(X_train, y_train)\n",
    "test_score = model.score(X_test, y_test)\n",
    "print(train_score, test_score)\n",
    "target_names = ['right move', 'left move', 'right', 'left']\n",
    "print(classification_report(model.predict(X_train), y_train, target_names=target_names))"
   ],
   "metadata": {
    "collapsed": false,
    "ExecuteTime": {
     "end_time": "2024-05-02T08:45:38.762586Z",
     "start_time": "2024-05-02T08:45:38.619383Z"
    }
   },
   "id": "7e6628616c1cb139",
   "execution_count": 13
  },
  {
   "cell_type": "code",
   "outputs": [],
   "source": [],
   "metadata": {
    "collapsed": false,
    "ExecuteTime": {
     "end_time": "2024-05-02T08:45:14.865269Z",
     "start_time": "2024-05-02T08:45:14.860244Z"
    }
   },
   "id": "c3ad011d41e6660",
   "execution_count": 10
  },
  {
   "cell_type": "code",
   "outputs": [],
   "source": [],
   "metadata": {
    "collapsed": false,
    "ExecuteTime": {
     "end_time": "2024-05-02T08:45:14.872755Z",
     "start_time": "2024-05-02T08:45:14.868507Z"
    }
   },
   "id": "aa7f93ae9cee56ec",
   "execution_count": 10
  },
  {
   "cell_type": "code",
   "outputs": [],
   "source": [],
   "metadata": {
    "collapsed": false
   },
   "id": "4ba1f0cbe6ea4eb5"
  }
 ],
 "metadata": {
  "kernelspec": {
   "display_name": "Python 3",
   "language": "python",
   "name": "python3"
  },
  "language_info": {
   "codemirror_mode": {
    "name": "ipython",
    "version": 2
   },
   "file_extension": ".py",
   "mimetype": "text/x-python",
   "name": "python",
   "nbconvert_exporter": "python",
   "pygments_lexer": "ipython2",
   "version": "2.7.6"
  }
 },
 "nbformat": 4,
 "nbformat_minor": 5
}
