{
 "cells": [
  {
   "cell_type": "markdown",
   "source": [
    "This file use to record data.\n",
    "Data Acquisition:\n",
    "10s first for prepare, not record\n",
    "60s first will move right or left hand in 10 secs, 2 sec for 1 move\n",
    "60s next will image the movement of right or left hand in secs, 2 sec for 1 image move"
   ],
   "metadata": {
    "collapsed": false
   },
   "id": "e199bfad313dff2"
  },
  {
   "cell_type": "markdown",
   "source": [
    "Import library"
   ],
   "metadata": {
    "collapsed": false
   },
   "id": "3162771fa8c8b9ba"
  },
  {
   "cell_type": "code",
   "execution_count": 14,
   "id": "initial_id",
   "metadata": {
    "collapsed": true,
    "ExecuteTime": {
     "end_time": "2024-04-29T14:43:57.635364Z",
     "start_time": "2024-04-29T14:43:57.629458Z"
    }
   },
   "outputs": [],
   "source": [
    "import serial\n",
    "import os"
   ]
  },
  {
   "cell_type": "markdown",
   "source": [
    "Prepare for record data"
   ],
   "metadata": {
    "collapsed": false
   },
   "id": "7ff0ac342860dba9"
  },
  {
   "cell_type": "code",
   "outputs": [],
   "source": [
    "if serial.Serial:\n",
    "    serial.Serial().close()\n",
    "\n",
    "# Open the serial port\n",
    "s = serial.Serial(\"COM3\", baudrate=57600)  # COMx in window or /dev/ttyACMx in Ubuntu with x is number of serial port."
   ],
   "metadata": {
    "collapsed": false,
    "ExecuteTime": {
     "end_time": "2024-04-29T14:43:58.111157Z",
     "start_time": "2024-04-29T14:43:58.078527Z"
    }
   },
   "id": "e3a0f9ba5fcc4f18",
   "execution_count": 15
  },
  {
   "cell_type": "markdown",
   "source": [
    "Prepare filename"
   ],
   "metadata": {
    "collapsed": false
   },
   "id": "4d3c5915b314e64a"
  },
  {
   "cell_type": "code",
   "outputs": [],
   "source": [
    "def increase_filename_index(filename):\n",
    "    base_name, extension = os.path.splitext(filename)\n",
    "    index = 1\n",
    "    new_filename = filename\n",
    "\n",
    "    while os.path.exists(new_filename) or (len(new_filename) < 13):\n",
    "        new_filename = f\"{base_name}_{index}{extension}\"\n",
    "        index += 1\n",
    "\n",
    "    return new_filename"
   ],
   "metadata": {
    "collapsed": false,
    "ExecuteTime": {
     "end_time": "2024-04-29T14:43:59.327951Z",
     "start_time": "2024-04-29T14:43:59.320027Z"
    }
   },
   "id": "8a9b636ec9f29744",
   "execution_count": 16
  },
  {
   "cell_type": "markdown",
   "source": [
    "Start to Record"
   ],
   "metadata": {
    "collapsed": false
   },
   "id": "9b75bc77a6e73f2e"
  },
  {
   "cell_type": "code",
   "outputs": [
    {
     "name": "stdout",
     "output_type": "stream",
     "text": [
      "Data/s1_2.csv\n",
      "Ready\n",
      "1\n",
      "2\n",
      "3\n",
      "4\n",
      "5\n",
      "6\n",
      "7\n",
      "8\n",
      "9\n",
      "10\n",
      "Go!\n",
      "Right Movement!\n",
      "1\n",
      "2\n",
      "3\n",
      "4\n",
      "5\n",
      "6\n",
      "7\n",
      "8\n",
      "9\n",
      "10\n",
      "LEFT Movement\n",
      "11\n",
      "12\n",
      "13\n",
      "14\n",
      "15\n",
      "16\n",
      "17\n",
      "18\n",
      "19\n",
      "20\n",
      "RIGHT Movement\n",
      "21\n",
      "22\n",
      "23\n",
      "24\n",
      "25\n",
      "26\n",
      "27\n",
      "28\n",
      "29\n",
      "30\n",
      "LEFT Movement\n",
      "31\n",
      "32\n",
      "33\n",
      "34\n",
      "35\n",
      "36\n",
      "37\n",
      "38\n",
      "39\n",
      "40\n",
      "RIGHT Movement\n",
      "41\n",
      "42\n",
      "43\n",
      "44\n",
      "45\n",
      "46\n",
      "47\n",
      "48\n",
      "49\n",
      "50\n",
      "LEFT Movement\n",
      "51\n",
      "52\n",
      "53\n",
      "54\n",
      "55\n",
      "56\n",
      "57\n",
      "58\n",
      "59\n",
      "60\n",
      "RIGHT Movement\n",
      "Go!\n",
      "Right!\n",
      "61\n",
      "62\n",
      "63\n",
      "64\n",
      "65\n",
      "66\n",
      "67\n",
      "68\n",
      "69\n",
      "70\n",
      "LEFT\n",
      "71\n",
      "72\n",
      "73\n",
      "74\n",
      "75\n",
      "76\n",
      "77\n",
      "78\n",
      "79\n",
      "80\n",
      "RIGHT\n",
      "81\n",
      "82\n",
      "83\n",
      "84\n",
      "85\n",
      "86\n",
      "87\n",
      "88\n",
      "89\n",
      "90\n",
      "LEFT\n",
      "91\n",
      "92\n",
      "93\n",
      "94\n",
      "95\n",
      "96\n",
      "97\n",
      "98\n",
      "99\n",
      "100\n",
      "RIGHT\n",
      "101\n",
      "102\n",
      "103\n",
      "104\n",
      "105\n",
      "106\n",
      "107\n",
      "108\n",
      "109\n",
      "110\n",
      "LEFT\n",
      "111\n",
      "112\n",
      "113\n",
      "114\n",
      "115\n",
      "116\n",
      "117\n",
      "118\n",
      "119\n",
      "120\n",
      "RIGHT\n"
     ]
    }
   ],
   "source": [
    "path = \"Data/\"\n",
    "original_filename = path+\"s1.csv\"\n",
    "new_filepath = increase_filename_index(original_filename)\n",
    "print(new_filepath)\n",
    "file = open(new_filepath, \"a\")\n",
    "x = 1\n",
    "time_record = 60\n",
    "print(\"Ready\")\n",
    "i = 1 # prepare mind and device\n",
    "while i <= (10 * 512):\n",
    "    data = s.readline().decode('utf-8').rstrip(\"\\r\\n\")\n",
    "    if i % 512 == 0:\n",
    "        print(i//512)\n",
    "    i+=1\n",
    "print(\"Go!\")\n",
    "print(\"Right Movement!\")\n",
    "while x <= (time_record * 512):\n",
    "    if x % 512 == 0:\n",
    "        print(x // 512)\n",
    "    if x % (10*512) == 0 and x % (20*512) != 0:\n",
    "        print(\"LEFT Movement\")\n",
    "    if x % (20*512) == 0:\n",
    "        print(\"RIGHT Movement\")\n",
    "    data = s.readline().decode('utf-8').rstrip(\"\\r\\n\")\n",
    "    file.write(data + \"\\n\")\n",
    "    x+=1\n",
    "\n",
    "print(\"Go!\")\n",
    "print(\"Right!\")\n",
    "while x <= (time_record*2 * 512):\n",
    "    if x % 512 == 0:\n",
    "        print(x // 512)\n",
    "    if x % (10*512) == 0 and x % (20*512) != 0:\n",
    "        print(\"LEFT\")\n",
    "    if x % (20*512) == 0:\n",
    "        print(\"RIGHT\")\n",
    "    data = s.readline().decode('utf-8').rstrip(\"\\r\\n\")\n",
    "    file.write(data + \"\\n\")\n",
    "    x+=1\n",
    "file.close()"
   ],
   "metadata": {
    "collapsed": false,
    "ExecuteTime": {
     "end_time": "2024-04-29T14:53:37.904190Z",
     "start_time": "2024-04-29T14:51:33.539123Z"
    }
   },
   "id": "fcff31d81cf30944",
   "execution_count": 18
  },
  {
   "cell_type": "code",
   "outputs": [],
   "source": [
    "file.close()"
   ],
   "metadata": {
    "collapsed": false,
    "ExecuteTime": {
     "end_time": "2024-04-29T15:03:47.945244Z",
     "start_time": "2024-04-29T15:03:47.940562Z"
    }
   },
   "id": "657e0010ce3a5b24",
   "execution_count": 19
  },
  {
   "cell_type": "code",
   "outputs": [],
   "source": [],
   "metadata": {
    "collapsed": false,
    "ExecuteTime": {
     "end_time": "2024-04-29T15:03:49.333140Z",
     "start_time": "2024-04-29T15:03:49.330935Z"
    }
   },
   "id": "8a156752506f761f",
   "execution_count": 19
  },
  {
   "cell_type": "code",
   "outputs": [],
   "source": [],
   "metadata": {
    "collapsed": false
   },
   "id": "c204adea9e8c06fb"
  }
 ],
 "metadata": {
  "kernelspec": {
   "display_name": "Python 3",
   "language": "python",
   "name": "python3"
  },
  "language_info": {
   "codemirror_mode": {
    "name": "ipython",
    "version": 2
   },
   "file_extension": ".py",
   "mimetype": "text/x-python",
   "name": "python",
   "nbconvert_exporter": "python",
   "pygments_lexer": "ipython2",
   "version": "2.7.6"
  }
 },
 "nbformat": 4,
 "nbformat_minor": 5
}
