{
 "cells": [
  {
   "cell_type": "code",
   "outputs": [],
   "source": [
    "import numpy as np\n",
    "import pandas as pd\n",
    "import sklearn\n",
    "import matplotlib.pyplot as plt"
   ],
   "metadata": {
    "collapsed": false,
    "ExecuteTime": {
     "end_time": "2024-05-07T07:28:28.876420Z",
     "start_time": "2024-05-07T07:28:28.869860Z"
    }
   },
   "id": "9f5a013941993649",
   "execution_count": 9
  },
  {
   "cell_type": "code",
   "execution_count": 10,
   "id": "initial_id",
   "metadata": {
    "collapsed": true,
    "ExecuteTime": {
     "end_time": "2024-05-07T07:28:29.290074Z",
     "start_time": "2024-05-07T07:28:29.274097Z"
    }
   },
   "outputs": [],
   "source": [
    "def FeatureExtract(y):\n",
    "    # y trong truong hop nay co do dai 15*512\n",
    "    flm = 160\n",
    "    L = len(y)\n",
    "    Y = np.fft.fft(y)\n",
    "    Y[0] = 0\n",
    "    P2 = np.abs(Y / L)\n",
    "    P1 = P2[:L // 2 + 1]\n",
    "    P1[1:-1] = 2 * P1[1:-1]\n",
    "    # Find the indices of the frequency values between 0.5 Hz and 4 Hz\n",
    "    f1 = np.arange(len(P1)) * flm / len(P1)\n",
    "    indices1 = np.where((f1 >= 0.5) & (f1 <= 4))[0]\n",
    "    delta = np.sum(P1[indices1])\n",
    "\n",
    "    f1 = np.arange(len(P1)) * flm / len(P1)\n",
    "    indices1 = np.where((f1 >= 4) & (f1 <= 8))[0]\n",
    "    theta = np.sum(P1[indices1])\n",
    "\n",
    "    f1 = np.arange(len(P1)) * flm / len(P1)\n",
    "    indices1 = np.where((f1 >= 8) & (f1 <= 13))[0]\n",
    "    alpha = np.sum(P1[indices1])\n",
    "\n",
    "    f1 = np.arange(len(P1)) * flm / len(P1)\n",
    "    indices1 = np.where((f1 >= 13) & (f1 <= 30))[0]\n",
    "    beta = np.sum(P1[indices1])\n",
    "\n",
    "    abr = alpha / beta\n",
    "    tbr = theta / beta\n",
    "    dbr = delta / beta\n",
    "    tar = theta / alpha\n",
    "    dar = delta / alpha\n",
    "    dtabr = (alpha + beta) / (delta + theta)\n",
    "    dict = {\"delta\": delta,\n",
    "            \"theta\": theta,\n",
    "            \"alpha\": alpha,\n",
    "            \"beta\": beta,\n",
    "            \"abr\": abr,\n",
    "            \"tbr\": tbr,\n",
    "            \"dbr\": dbr,\n",
    "            \"tar\": tar,\n",
    "            \"dar\": dar,\n",
    "            \"dtabr\": dtabr\n",
    "            }\n",
    "    #print(dict)\n",
    "    return dict"
   ]
  },
  {
   "cell_type": "code",
   "outputs": [],
   "source": [
    "df = pd.read_csv('dataC3.csv')"
   ],
   "metadata": {
    "collapsed": false,
    "ExecuteTime": {
     "end_time": "2024-05-07T07:28:30.770055Z",
     "start_time": "2024-05-07T07:28:29.943166Z"
    }
   },
   "id": "60d6fef198ebc1ac",
   "execution_count": 11
  },
  {
   "cell_type": "code",
   "outputs": [
    {
     "data": {
      "text/plain": "        0    1    2    3    4    5    6    7    8    9  ...  647  648  649  \\\n0      12   23    8    6  -20  -11   -7   -6    3   22  ...  -18   -3   -6   \n1       1   -5  -49  -37  -18  -23  -14    4   -2    5  ...   -8   18    7   \n2       3   -3  -13  -35  -32  -20  -18  -14   -6   -1  ...   -4  -12  -39   \n3       8    2    6   22   24   39   74   42   29   -3  ...    1    3  -24   \n4       6   -6  -11  -24   10    4   14    4    6   16  ...  -16  -14    6   \n...   ...  ...  ...  ...  ...  ...  ...  ...  ...  ...  ...  ...  ...  ...   \n5647   -8  -12   -2   16   -4  -16   -3  -10  -31  -46  ...  102   80   80   \n5648   36   26   18   35   17   24   68   42   29   41  ...  -17  -24  -51   \n5649    7    1   -9  -18   -5    3   22   -1   -8  -14  ...   65   69   53   \n5650  131  134  175  209  243  235  243  225  209  202  ...  -32    4   -4   \n5651  -21  -13  -16  -37  -26  -32  -46  -48  -53  -49  ...   42   64   51   \n\n      650  651  652  653  654  655  Label  \n0      -5  -18   -6   -9   -5  -23      0  \n1     -11   -5    9   40   46   34      0  \n2      -1   -8    0  -28  -21  -32      0  \n3     -23  -14  -11  -11  -11  -10      0  \n4       8   21   26   23    8   -3      0  \n...   ...  ...  ...  ...  ...  ...    ...  \n5647   90   94   68   56   62   65      2  \n5648  -49  -41  -29  -28  -14  -29      2  \n5649   47   48   49   63   69   62      2  \n5650  -35  -51  -29  -21  -24  -35      2  \n5651   59   58   53   61   49   37      2  \n\n[5652 rows x 657 columns]",
      "text/html": "<div>\n<style scoped>\n    .dataframe tbody tr th:only-of-type {\n        vertical-align: middle;\n    }\n\n    .dataframe tbody tr th {\n        vertical-align: top;\n    }\n\n    .dataframe thead th {\n        text-align: right;\n    }\n</style>\n<table border=\"1\" class=\"dataframe\">\n  <thead>\n    <tr style=\"text-align: right;\">\n      <th></th>\n      <th>0</th>\n      <th>1</th>\n      <th>2</th>\n      <th>3</th>\n      <th>4</th>\n      <th>5</th>\n      <th>6</th>\n      <th>7</th>\n      <th>8</th>\n      <th>9</th>\n      <th>...</th>\n      <th>647</th>\n      <th>648</th>\n      <th>649</th>\n      <th>650</th>\n      <th>651</th>\n      <th>652</th>\n      <th>653</th>\n      <th>654</th>\n      <th>655</th>\n      <th>Label</th>\n    </tr>\n  </thead>\n  <tbody>\n    <tr>\n      <th>0</th>\n      <td>12</td>\n      <td>23</td>\n      <td>8</td>\n      <td>6</td>\n      <td>-20</td>\n      <td>-11</td>\n      <td>-7</td>\n      <td>-6</td>\n      <td>3</td>\n      <td>22</td>\n      <td>...</td>\n      <td>-18</td>\n      <td>-3</td>\n      <td>-6</td>\n      <td>-5</td>\n      <td>-18</td>\n      <td>-6</td>\n      <td>-9</td>\n      <td>-5</td>\n      <td>-23</td>\n      <td>0</td>\n    </tr>\n    <tr>\n      <th>1</th>\n      <td>1</td>\n      <td>-5</td>\n      <td>-49</td>\n      <td>-37</td>\n      <td>-18</td>\n      <td>-23</td>\n      <td>-14</td>\n      <td>4</td>\n      <td>-2</td>\n      <td>5</td>\n      <td>...</td>\n      <td>-8</td>\n      <td>18</td>\n      <td>7</td>\n      <td>-11</td>\n      <td>-5</td>\n      <td>9</td>\n      <td>40</td>\n      <td>46</td>\n      <td>34</td>\n      <td>0</td>\n    </tr>\n    <tr>\n      <th>2</th>\n      <td>3</td>\n      <td>-3</td>\n      <td>-13</td>\n      <td>-35</td>\n      <td>-32</td>\n      <td>-20</td>\n      <td>-18</td>\n      <td>-14</td>\n      <td>-6</td>\n      <td>-1</td>\n      <td>...</td>\n      <td>-4</td>\n      <td>-12</td>\n      <td>-39</td>\n      <td>-1</td>\n      <td>-8</td>\n      <td>0</td>\n      <td>-28</td>\n      <td>-21</td>\n      <td>-32</td>\n      <td>0</td>\n    </tr>\n    <tr>\n      <th>3</th>\n      <td>8</td>\n      <td>2</td>\n      <td>6</td>\n      <td>22</td>\n      <td>24</td>\n      <td>39</td>\n      <td>74</td>\n      <td>42</td>\n      <td>29</td>\n      <td>-3</td>\n      <td>...</td>\n      <td>1</td>\n      <td>3</td>\n      <td>-24</td>\n      <td>-23</td>\n      <td>-14</td>\n      <td>-11</td>\n      <td>-11</td>\n      <td>-11</td>\n      <td>-10</td>\n      <td>0</td>\n    </tr>\n    <tr>\n      <th>4</th>\n      <td>6</td>\n      <td>-6</td>\n      <td>-11</td>\n      <td>-24</td>\n      <td>10</td>\n      <td>4</td>\n      <td>14</td>\n      <td>4</td>\n      <td>6</td>\n      <td>16</td>\n      <td>...</td>\n      <td>-16</td>\n      <td>-14</td>\n      <td>6</td>\n      <td>8</td>\n      <td>21</td>\n      <td>26</td>\n      <td>23</td>\n      <td>8</td>\n      <td>-3</td>\n      <td>0</td>\n    </tr>\n    <tr>\n      <th>...</th>\n      <td>...</td>\n      <td>...</td>\n      <td>...</td>\n      <td>...</td>\n      <td>...</td>\n      <td>...</td>\n      <td>...</td>\n      <td>...</td>\n      <td>...</td>\n      <td>...</td>\n      <td>...</td>\n      <td>...</td>\n      <td>...</td>\n      <td>...</td>\n      <td>...</td>\n      <td>...</td>\n      <td>...</td>\n      <td>...</td>\n      <td>...</td>\n      <td>...</td>\n      <td>...</td>\n    </tr>\n    <tr>\n      <th>5647</th>\n      <td>-8</td>\n      <td>-12</td>\n      <td>-2</td>\n      <td>16</td>\n      <td>-4</td>\n      <td>-16</td>\n      <td>-3</td>\n      <td>-10</td>\n      <td>-31</td>\n      <td>-46</td>\n      <td>...</td>\n      <td>102</td>\n      <td>80</td>\n      <td>80</td>\n      <td>90</td>\n      <td>94</td>\n      <td>68</td>\n      <td>56</td>\n      <td>62</td>\n      <td>65</td>\n      <td>2</td>\n    </tr>\n    <tr>\n      <th>5648</th>\n      <td>36</td>\n      <td>26</td>\n      <td>18</td>\n      <td>35</td>\n      <td>17</td>\n      <td>24</td>\n      <td>68</td>\n      <td>42</td>\n      <td>29</td>\n      <td>41</td>\n      <td>...</td>\n      <td>-17</td>\n      <td>-24</td>\n      <td>-51</td>\n      <td>-49</td>\n      <td>-41</td>\n      <td>-29</td>\n      <td>-28</td>\n      <td>-14</td>\n      <td>-29</td>\n      <td>2</td>\n    </tr>\n    <tr>\n      <th>5649</th>\n      <td>7</td>\n      <td>1</td>\n      <td>-9</td>\n      <td>-18</td>\n      <td>-5</td>\n      <td>3</td>\n      <td>22</td>\n      <td>-1</td>\n      <td>-8</td>\n      <td>-14</td>\n      <td>...</td>\n      <td>65</td>\n      <td>69</td>\n      <td>53</td>\n      <td>47</td>\n      <td>48</td>\n      <td>49</td>\n      <td>63</td>\n      <td>69</td>\n      <td>62</td>\n      <td>2</td>\n    </tr>\n    <tr>\n      <th>5650</th>\n      <td>131</td>\n      <td>134</td>\n      <td>175</td>\n      <td>209</td>\n      <td>243</td>\n      <td>235</td>\n      <td>243</td>\n      <td>225</td>\n      <td>209</td>\n      <td>202</td>\n      <td>...</td>\n      <td>-32</td>\n      <td>4</td>\n      <td>-4</td>\n      <td>-35</td>\n      <td>-51</td>\n      <td>-29</td>\n      <td>-21</td>\n      <td>-24</td>\n      <td>-35</td>\n      <td>2</td>\n    </tr>\n    <tr>\n      <th>5651</th>\n      <td>-21</td>\n      <td>-13</td>\n      <td>-16</td>\n      <td>-37</td>\n      <td>-26</td>\n      <td>-32</td>\n      <td>-46</td>\n      <td>-48</td>\n      <td>-53</td>\n      <td>-49</td>\n      <td>...</td>\n      <td>42</td>\n      <td>64</td>\n      <td>51</td>\n      <td>59</td>\n      <td>58</td>\n      <td>53</td>\n      <td>61</td>\n      <td>49</td>\n      <td>37</td>\n      <td>2</td>\n    </tr>\n  </tbody>\n</table>\n<p>5652 rows × 657 columns</p>\n</div>"
     },
     "execution_count": 15,
     "metadata": {},
     "output_type": "execute_result"
    }
   ],
   "source": [
    "df"
   ],
   "metadata": {
    "collapsed": false,
    "ExecuteTime": {
     "end_time": "2024-05-07T07:28:59.754348Z",
     "start_time": "2024-05-07T07:28:59.724775Z"
    }
   },
   "id": "767e340cefd184eb",
   "execution_count": 15
  },
  {
   "cell_type": "code",
   "outputs": [
    {
     "name": "stdout",
     "output_type": "stream",
     "text": [
      "        0    1    2    3    4    5    6    7    8    9  ...  646  647  648  \\\n",
      "0      12   23    8    6  -20  -11   -7   -6    3   22  ...  -18  -18   -3   \n",
      "1       1   -5  -49  -37  -18  -23  -14    4   -2    5  ...   10   -8   18   \n",
      "2       3   -3  -13  -35  -32  -20  -18  -14   -6   -1  ...   -7   -4  -12   \n",
      "3       8    2    6   22   24   39   74   42   29   -3  ...    4    1    3   \n",
      "4       6   -6  -11  -24   10    4   14    4    6   16  ...  -11  -16  -14   \n",
      "...   ...  ...  ...  ...  ...  ...  ...  ...  ...  ...  ...  ...  ...  ...   \n",
      "5647   -8  -12   -2   16   -4  -16   -3  -10  -31  -46  ...  109  102   80   \n",
      "5648   36   26   18   35   17   24   68   42   29   41  ...  -12  -17  -24   \n",
      "5649    7    1   -9  -18   -5    3   22   -1   -8  -14  ...   56   65   69   \n",
      "5650  131  134  175  209  243  235  243  225  209  202  ...  -46  -32    4   \n",
      "5651  -21  -13  -16  -37  -26  -32  -46  -48  -53  -49  ...   42   42   64   \n",
      "\n",
      "      649  650  651  652  653  654  655  \n",
      "0      -6   -5  -18   -6   -9   -5  -23  \n",
      "1       7  -11   -5    9   40   46   34  \n",
      "2     -39   -1   -8    0  -28  -21  -32  \n",
      "3     -24  -23  -14  -11  -11  -11  -10  \n",
      "4       6    8   21   26   23    8   -3  \n",
      "...   ...  ...  ...  ...  ...  ...  ...  \n",
      "5647   80   90   94   68   56   62   65  \n",
      "5648  -51  -49  -41  -29  -28  -14  -29  \n",
      "5649   53   47   48   49   63   69   62  \n",
      "5650   -4  -35  -51  -29  -21  -24  -35  \n",
      "5651   51   59   58   53   61   49   37  \n",
      "\n",
      "[5652 rows x 656 columns]\n",
      "[[ 35.87514294  30.73039321  18.09585291 ...   1.69820087   1.98250633\n",
      "    1.26400313]\n",
      " [ 31.62691562  25.12285174  19.2191679  ...   1.30717687   1.64559235\n",
      "    1.60036757]\n",
      " [ 23.7851494   15.6721145   16.2141941  ...   0.96656759   1.4669338\n",
      "    1.79758931]\n",
      " ...\n",
      " [122.94132188  39.56239792  35.39629283 ...   1.11769891   3.47328243\n",
      "    0.82236215]\n",
      " [107.67456198  91.55341279  72.38545181 ...   1.26480405   1.48751661\n",
      "    0.85824959]\n",
      " [ 81.85023841  53.28058516  40.34296105 ...   1.32069099   2.02886046\n",
      "    0.91197006]]\n"
     ]
    }
   ],
   "source": [
    "# Khởi tạo một mảng rỗng để chứa các dictionary\n",
    "array = np.empty((0, 10))\n",
    "train = df.drop('Label',axis=1)\n",
    "print(train)\n",
    "labels = df['Label']\n",
    "for i in range(len(train)):\n",
    "    # Trích xuất dictionary từ mỗi hàng của DataFrame\n",
    "    feature_dict = FeatureExtract(train.iloc[i, :].values)\n",
    "\n",
    "    # Chuyển đổi dictionary thành một mảng 1D\n",
    "    feature_array = np.array(list(feature_dict.values()))\n",
    "\n",
    "    # Thêm mảng 1D vào mảng 2D\n",
    "    array = np.vstack((array, feature_array))\n",
    "\n",
    "print(array)\n",
    "array = np.column_stack((array, labels))\n",
    "np.savetxt('Data_Feature.csv', array, delimiter=',')"
   ],
   "metadata": {
    "collapsed": false,
    "ExecuteTime": {
     "end_time": "2024-05-07T07:30:08.246798Z",
     "start_time": "2024-05-07T07:30:05.527189Z"
    }
   },
   "id": "edfa63e9723f1c3d",
   "execution_count": 20
  },
  {
   "cell_type": "code",
   "outputs": [],
   "source": [
    "import pandas as pd\n",
    "from sklearn.preprocessing import MinMaxScaler\n",
    "# Đọc dữ liệu từ file CSV\n",
    "from ydata_profiling import ProfileReport\n",
    "df = pd.read_csv('Data_Feature.csv')\n",
    "# Khởi tạo scaler\n",
    "scaler = MinMaxScaler()\n",
    "\n",
    "# Scale tất cả các cột\n",
    "df_scaled = pd.DataFrame(scaler.fit_transform(df), columns=df.columns)\n",
    "# df_scaled\n",
    "# profile = ProfileReport(df_scaled)\n",
    "# profile.to_file(\"profiling_report.html\")"
   ],
   "metadata": {
    "collapsed": false,
    "ExecuteTime": {
     "end_time": "2024-05-07T07:45:27.038689Z",
     "start_time": "2024-05-07T07:45:26.995539Z"
    }
   },
   "id": "af1e0375f3ca4e66",
   "execution_count": 35
  },
  {
   "cell_type": "code",
   "outputs": [],
   "source": [
    "# Bỏ đi các dòng có nhãn bằng 2\n",
    "df = df[df[df.columns[-1]] != 1]\n",
    "\n",
    "# Cập nhật lại X và y sau khi bỏ đi các dòng\n",
    "X = df.drop(df.columns[-1], axis=1)\n",
    "y = df[df.columns[-1]]"
   ],
   "metadata": {
    "collapsed": false,
    "ExecuteTime": {
     "end_time": "2024-05-07T07:45:29.023574Z",
     "start_time": "2024-05-07T07:45:29.013653Z"
    }
   },
   "id": "aa73f2d006e36d55",
   "execution_count": 36
  },
  {
   "cell_type": "code",
   "outputs": [
    {
     "name": "stdout",
     "output_type": "stream",
     "text": [
      "Accuracy: 0.513262599469496\n"
     ]
    }
   ],
   "source": [
    "from sklearn import svm\n",
    "from sklearn.model_selection import train_test_split\n",
    "from sklearn.metrics import accuracy_score\n",
    "\n",
    "# Khởi tạo dữ liệu mẫu\n",
    "\n",
    "# Chia dữ liệu thành tập huấn luyện và tập kiểm tra\n",
    "X_train, X_test, y_train, y_test = train_test_split(X, y, test_size=0.2, random_state=42)\n",
    "\n",
    "# Khởi tạo mô hình SVM\n",
    "model = svm.SVC(kernel='linear')\n",
    "\n",
    "# Huấn luyện mô hình trên tập huấn luyện\n",
    "model.fit(X_train, y_train)\n",
    "\n",
    "# Dự đoán nhãn cho tập kiểm tra\n",
    "y_pred = model.predict(X_test)\n",
    "\n",
    "# Đánh giá độ chính xác\n",
    "accuracy = accuracy_score(y_test, y_pred)\n",
    "print(\"Accuracy:\", accuracy)"
   ],
   "metadata": {
    "collapsed": false,
    "ExecuteTime": {
     "end_time": "2024-05-07T07:46:09.734963Z",
     "start_time": "2024-05-07T07:45:29.515429Z"
    }
   },
   "id": "6518fcd2e25385f8",
   "execution_count": 37
  },
  {
   "cell_type": "code",
   "outputs": [
    {
     "name": "stdout",
     "output_type": "stream",
     "text": [
      "Accuracy: 0.513262599469496\n",
      "Confusion Matrix:\n",
      "[[118 278]\n",
      " [ 89 269]]\n",
      "Classification Report:\n",
      "              precision    recall  f1-score   support\n",
      "\n",
      "         0.0       0.57      0.30      0.39       396\n",
      "         2.0       0.49      0.75      0.59       358\n",
      "\n",
      "    accuracy                           0.51       754\n",
      "   macro avg       0.53      0.52      0.49       754\n",
      "weighted avg       0.53      0.51      0.49       754\n",
      "\n",
      "[2. 0. 2. 2. 0. 0. 2. 2. 0. 2. 2. 2. 2. 2. 2. 2. 2. 2. 2. 2. 2. 0. 2. 0.\n",
      " 2. 2. 2. 2. 2. 2. 0. 2. 0. 2. 2. 2. 2. 2. 2. 0. 2. 0. 2. 0. 2. 2. 0. 2.\n",
      " 2. 0. 2. 2. 0. 0. 2. 2. 2. 2. 2. 2. 2. 2. 2. 0. 2. 2. 0. 2. 0. 2. 2. 2.\n",
      " 2. 2. 2. 0. 2. 2. 0. 2. 2. 2. 2. 2. 2. 2. 2. 2. 0. 0. 2. 2. 2. 2. 0. 2.\n",
      " 2. 2. 2. 2. 2. 2. 2. 2. 2. 0. 2. 0. 2. 2. 0. 0. 2. 2. 0. 2. 2. 2. 2. 2.\n",
      " 0. 2. 2. 0. 2. 0. 0. 0. 2. 0. 2. 0. 2. 2. 2. 2. 2. 2. 2. 2. 0. 2. 2. 2.\n",
      " 0. 2. 2. 2. 2. 2. 0. 0. 2. 2. 2. 2. 0. 2. 2. 2. 2. 0. 2. 0. 0. 0. 0. 2.\n",
      " 2. 2. 2. 2. 2. 2. 2. 2. 2. 2. 0. 0. 2. 2. 0. 2. 2. 2. 2. 2. 0. 0. 0. 2.\n",
      " 2. 2. 2. 2. 2. 2. 2. 2. 2. 2. 0. 0. 2. 2. 0. 2. 0. 2. 2. 2. 2. 0. 0. 2.\n",
      " 0. 2. 0. 2. 0. 0. 2. 2. 2. 2. 0. 2. 2. 0. 2. 2. 2. 2. 2. 2. 0. 2. 0. 2.\n",
      " 2. 2. 2. 2. 2. 2. 0. 2. 2. 2. 2. 2. 2. 2. 0. 2. 2. 2. 0. 0. 0. 2. 2. 2.\n",
      " 2. 0. 0. 0. 0. 2. 2. 0. 2. 2. 2. 2. 2. 2. 2. 2. 0. 2. 0. 0. 2. 2. 2. 2.\n",
      " 2. 2. 0. 2. 2. 2. 2. 2. 2. 2. 2. 2. 2. 0. 2. 2. 2. 2. 0. 2. 0. 2. 2. 0.\n",
      " 2. 2. 2. 2. 2. 0. 0. 2. 2. 2. 2. 2. 2. 2. 2. 0. 2. 2. 2. 0. 2. 0. 2. 2.\n",
      " 2. 0. 2. 0. 2. 2. 2. 2. 2. 2. 0. 2. 0. 2. 0. 2. 2. 2. 0. 0. 0. 2. 2. 2.\n",
      " 0. 2. 2. 2. 0. 2. 0. 2. 0. 2. 2. 2. 2. 2. 2. 2. 0. 0. 2. 0. 2. 2. 2. 2.\n",
      " 2. 2. 2. 2. 2. 2. 2. 2. 2. 0. 2. 2. 0. 0. 2. 2. 2. 2. 2. 2. 2. 2. 2. 2.\n",
      " 0. 2. 2. 2. 2. 2. 0. 2. 2. 2. 0. 2. 2. 2. 2. 0. 2. 2. 0. 2. 2. 2. 2. 2.\n",
      " 2. 2. 0. 2. 2. 0. 0. 2. 0. 2. 0. 2. 2. 0. 2. 2. 0. 2. 2. 0. 2. 2. 2. 2.\n",
      " 2. 2. 2. 0. 0. 2. 2. 0. 2. 2. 2. 0. 2. 2. 2. 0. 0. 2. 2. 0. 2. 0. 2. 2.\n",
      " 0. 2. 0. 2. 2. 2. 2. 2. 2. 2. 2. 0. 2. 2. 2. 0. 2. 0. 2. 0. 2. 2. 2. 2.\n",
      " 0. 0. 2. 2. 2. 2. 2. 2. 2. 2. 2. 0. 0. 0. 0. 2. 0. 0. 0. 2. 0. 2. 0. 2.\n",
      " 2. 2. 2. 2. 2. 2. 2. 2. 2. 0. 2. 0. 2. 0. 2. 0. 0. 2. 2. 0. 2. 2. 2. 2.\n",
      " 2. 2. 2. 2. 2. 2. 2. 2. 2. 2. 2. 2. 0. 2. 2. 2. 0. 2. 2. 0. 2. 0. 2. 2.\n",
      " 0. 2. 2. 2. 2. 2. 2. 2. 2. 2. 0. 2. 0. 2. 2. 0. 2. 2. 2. 0. 2. 2. 0. 2.\n",
      " 2. 0. 2. 2. 2. 2. 2. 2. 2. 0. 2. 0. 2. 0. 2. 2. 2. 2. 0. 0. 2. 2. 2. 2.\n",
      " 0. 2. 2. 2. 0. 2. 2. 0. 2. 2. 2. 0. 2. 2. 2. 2. 2. 2. 2. 0. 2. 2. 0. 2.\n",
      " 2. 2. 2. 2. 2. 0. 2. 2. 2. 2. 2. 0. 2. 2. 0. 2. 0. 0. 2. 2. 0. 0. 2. 0.\n",
      " 0. 2. 0. 2. 0. 0. 0. 2. 0. 2. 0. 2. 2. 0. 2. 2. 2. 0. 0. 0. 2. 2. 2. 2.\n",
      " 2. 2. 2. 2. 2. 2. 0. 2. 2. 2. 2. 0. 2. 2. 0. 0. 2. 0. 0. 2. 0. 0. 0. 2.\n",
      " 2. 0. 2. 2. 2. 2. 2. 2. 2. 2. 2. 2. 2. 2. 2. 0. 2. 2. 2. 2. 2. 0. 2. 0.\n",
      " 2. 2. 0. 2. 2. 0. 0. 2. 2. 2.]\n"
     ]
    }
   ],
   "source": [
    "from sklearn.metrics import accuracy_score, confusion_matrix, classification_report\n",
    "\n",
    "# Đánh giá độ chính xác\n",
    "accuracy = accuracy_score(y_test, y_pred)\n",
    "print(\"Accuracy:\", accuracy)\n",
    "\n",
    "# Tính ma trận nhầm lẫn\n",
    "cm = confusion_matrix(y_test, y_pred)\n",
    "print(\"Confusion Matrix:\")\n",
    "print(cm)\n",
    "\n",
    "# Báo cáo phân loại\n",
    "classification_rep = classification_report(y_test, y_pred)\n",
    "print(\"Classification Report:\")\n",
    "print(classification_rep)\n",
    "print(y_pred)"
   ],
   "metadata": {
    "collapsed": false,
    "ExecuteTime": {
     "end_time": "2024-05-07T07:46:09.775429Z",
     "start_time": "2024-05-07T07:46:09.736269Z"
    }
   },
   "id": "f458815f1fe9a14b",
   "execution_count": 38
  },
  {
   "cell_type": "code",
   "outputs": [],
   "source": [],
   "metadata": {
    "collapsed": false
   },
   "id": "411390fc5cf3742a"
  }
 ],
 "metadata": {
  "kernelspec": {
   "display_name": "Python 3",
   "language": "python",
   "name": "python3"
  },
  "language_info": {
   "codemirror_mode": {
    "name": "ipython",
    "version": 2
   },
   "file_extension": ".py",
   "mimetype": "text/x-python",
   "name": "python",
   "nbconvert_exporter": "python",
   "pygments_lexer": "ipython2",
   "version": "2.7.6"
  }
 },
 "nbformat": 4,
 "nbformat_minor": 5
}
